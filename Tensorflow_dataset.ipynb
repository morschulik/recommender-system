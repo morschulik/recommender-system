{
 "cells": [
  {
   "cell_type": "markdown",
   "metadata": {},
   "source": [
    "(Using tensorflow , add summery of the concept training data, vs tet data )"
   ]
  },
  {
   "cell_type": "markdown",
   "metadata": {},
   "source": [
    "[Tensorflow data description](https://www.tensorflow.org/datasets/catalog/movielens)"
   ]
  },
  {
   "cell_type": "markdown",
   "metadata": {},
   "source": [
    "@article{10.1145/2827872,\n",
    "author = {Harper, F. Maxwell and Konstan, Joseph A.},\n",
    "title = {The MovieLens Datasets: History and Context},\n",
    "year = {2015},\n",
    "issue_date = {January 2016},\n",
    "publisher = {Association for Computing Machinery},\n",
    "address = {New York, NY, USA},\n",
    "volume = {5},\n",
    "number = {4},\n",
    "issn = {2160-6455},\n",
    "url = {https://doi.org/10.1145/2827872},\n",
    "doi = {10.1145/2827872},\n",
    "journal = {ACM Trans. Interact. Intell. Syst.},\n",
    "month = dec,\n",
    "articleno = {19},\n",
    "numpages = {19},\n",
    "keywords = {Datasets, recommendations, ratings, MovieLens}\n",
    "}\n"
   ]
  },
  {
   "cell_type": "markdown",
   "metadata": {},
   "source": [
    "### movielens/latest-small-ratings\n",
    "\n",
    "- *Config description*: This dataset contains 100,836 ratings across 9,742 movies, created by 610 users between March 29, 1996 and September 24, 2018. This dataset is generated on September 26, 2018 and is the a subset of the full latest version of the MovieLens dataset. This dataset is changed and updated over time.<br>\n",
    "\n",
    "Each user has rated at least 20 movies. The ratings are in half-star increments. This dataset does not include demographic data.\n",
    "\n",
    "    - Download size: 955.28 KiB\n",
    "\n",
    "    - Dataset size: 15.82 MiB\n",
    "\n",
    "    - Auto-cached (documentation): Yes\n",
    "\n",
    "    - Splits: train-- 100,836\n"
   ]
  },
  {
   "cell_type": "markdown",
   "metadata": {},
   "source": [
    "### Feature structure"
   ]
  },
  {
   "cell_type": "code",
   "execution_count": null,
   "metadata": {},
   "outputs": [],
   "source": [
    "FeaturesDict({\n",
    "    'movie_genres': Sequence(ClassLabel(shape=(), dtype=int64, num_classes=21)),\n",
    "    'movie_id': object,\n",
    "    'movie_title': object,\n",
    "    'timestamp': int64,\n",
    "    'user_id': object,\n",
    "    'user_rating': float32,\n",
    "})"
   ]
  },
  {
   "cell_type": "markdown",
   "metadata": {},
   "source": [
    "![feature_docu_ratings](media/ML_Feature_Docu_ratings.png)"
   ]
  },
  {
   "cell_type": "markdown",
   "metadata": {},
   "source": [
    "##### Load and convert to Pd Data frame:"
   ]
  },
  {
   "cell_type": "markdown",
   "metadata": {},
   "source": [
    "[From Tesnsorflow](https://www.tensorflow.org/datasets/overview)"
   ]
  },
  {
   "cell_type": "markdown",
   "metadata": {},
   "source": [
    "TFDS exists in two packages:\n",
    "\n",
    "- `pip install tensorflow-datasets`: The stable version, released every few months.\n",
    "- `pip install tfds-nightly`: Released every day, contains the last versions of the datasets.\n"
   ]
  },
  {
   "cell_type": "markdown",
   "metadata": {},
   "source": [
    "This colab uses tfds-nightly:\n",
    "\n",
    "`pip install -q tfds-nightly tensorflow matplotlib`\n"
   ]
  },
  {
   "cell_type": "code",
   "execution_count": 1,
   "metadata": {},
   "outputs": [
    {
     "name": "stderr",
     "output_type": "stream",
     "text": [
      "2022-12-05 19:44:33.480752: I tensorflow/core/platform/cpu_feature_guard.cc:193] This TensorFlow binary is optimized with oneAPI Deep Neural Network Library (oneDNN) to use the following CPU instructions in performance-critical operations:  AVX2 FMA\n",
      "To enable them in other operations, rebuild TensorFlow with the appropriate compiler flags.\n",
      "2022-12-05 19:44:33.862706: W tensorflow/compiler/xla/stream_executor/platform/default/dso_loader.cc:64] Could not load dynamic library 'libcudart.so.11.0'; dlerror: libcudart.so.11.0: cannot open shared object file: No such file or directory\n",
      "2022-12-05 19:44:33.862723: I tensorflow/compiler/xla/stream_executor/cuda/cudart_stub.cc:29] Ignore above cudart dlerror if you do not have a GPU set up on your machine.\n",
      "2022-12-05 19:44:34.956456: W tensorflow/compiler/xla/stream_executor/platform/default/dso_loader.cc:64] Could not load dynamic library 'libnvinfer.so.7'; dlerror: libnvinfer.so.7: cannot open shared object file: No such file or directory\n",
      "2022-12-05 19:44:34.956520: W tensorflow/compiler/xla/stream_executor/platform/default/dso_loader.cc:64] Could not load dynamic library 'libnvinfer_plugin.so.7'; dlerror: libnvinfer_plugin.so.7: cannot open shared object file: No such file or directory\n",
      "2022-12-05 19:44:34.956530: W tensorflow/compiler/tf2tensorrt/utils/py_utils.cc:38] TF-TRT Warning: Cannot dlopen some TensorRT libraries. If you would like to use Nvidia GPU with TensorRT, please make sure the missing libraries mentioned above are installed properly.\n"
     ]
    }
   ],
   "source": [
    "import matplotlib.pyplot as plt\n",
    "import numpy as np\n",
    "import tensorflow as tf\n",
    "\n",
    "import tensorflow_datasets as tfds"
   ]
  },
  {
   "cell_type": "code",
   "execution_count": null,
   "metadata": {},
   "outputs": [],
   "source": [
    "tfds.list_builders()"
   ]
  },
  {
   "cell_type": "code",
   "execution_count": null,
   "metadata": {},
   "outputs": [],
   "source": [
    "ds = tfds.load('movielens', split='train', shuffle_files=True)\n",
    "assert isinstance(ds, tf.data.Dataset)\n",
    "print(ds)\n"
   ]
  },
  {
   "cell_type": "code",
   "execution_count": null,
   "metadata": {},
   "outputs": [],
   "source": [
    "ds = tfds.load('movie_lens', split='train', shuffle_files=True)\n",
    "assert isinstance(ds, tf.data.Dataset)\n",
    "print(ds)\n"
   ]
  },
  {
   "cell_type": "code",
   "execution_count": 5,
   "metadata": {},
   "outputs": [
    {
     "ename": "SyntaxError",
     "evalue": "invalid syntax (2193305447.py, line 4)",
     "output_type": "error",
     "traceback": [
      "\u001b[0;36m  Cell \u001b[0;32mIn [5], line 4\u001b[0;36m\u001b[0m\n\u001b[0;31m    ds: tf.data.Dataset,\u001b[0m\n\u001b[0m      ^\u001b[0m\n\u001b[0;31mSyntaxError\u001b[0m\u001b[0;31m:\u001b[0m invalid syntax\n"
     ]
    }
   ],
   "source": [
    "# Convert the dataset into a pandas dataframe.\n",
    "\n",
    "tfds.as_dataframe(\n",
    "    ds: tf.data.Dataset,\n",
    "    ds_info: Optional[tfds.core.DatasetInfo] = None\n",
    ") #-> StyledDataFrame\n"
   ]
  },
  {
   "cell_type": "markdown",
   "metadata": {},
   "source": [
    "### movielens/latest-small-movies\n",
    "\n",
    "- *Config description*: This dataset contains data of 9,742 movies rated in the latest-small dataset.\n",
    "\n",
    "- Download size: 955.28 KiB\n",
    "\n",
    "- Dataset size: 910.64 KiB\n",
    "\n",
    "- Auto-cached (documentation): Yes\n",
    "\n",
    "Splits (train:9742)"
   ]
  },
  {
   "cell_type": "markdown",
   "metadata": {},
   "source": [
    "#### Feature structure"
   ]
  },
  {
   "cell_type": "code",
   "execution_count": null,
   "metadata": {},
   "outputs": [],
   "source": [
    "FeaturesDict({\n",
    "    'movie_genres': Sequence(ClassLabel(shape=(), dtype=int64, num_classes=21)),\n",
    "    'movie_id': object,\n",
    "    'movie_title': object,\n",
    "})"
   ]
  },
  {
   "cell_type": "markdown",
   "metadata": {},
   "source": [
    "![Featur_Doc_movies](media/ML_Feature_Docu_movies.png)"
   ]
  },
  {
   "cell_type": "markdown",
   "metadata": {},
   "source": [
    "##### Example:"
   ]
  },
  {
   "cell_type": "markdown",
   "metadata": {},
   "source": []
  },
  {
   "cell_type": "code",
   "execution_count": null,
   "metadata": {},
   "outputs": [],
   "source": [
    "# Convert the dataset into a pandas dataframe.\n",
    "\n",
    "tfds.as_dataframe(\n",
    "    ds: tf.data.Dataset,\n",
    "    ds_info: Optional[tfds.core.DatasetInfo] = None\n",
    ") -> StyledDataFrame"
   ]
  },
  {
   "cell_type": "markdown",
   "metadata": {},
   "source": [
    "# links\n",
    "Movielense dataset\n",
    "\n",
    "https://www.kaggle.com/datasets/grouplens/movielens-20m-dataset?select=rating.csv\n",
    "\n",
    "\n",
    "\n",
    "tensorflow\n",
    "\n",
    "https://www.tensorflow.org/datasets/catalog/movielens\n",
    "https://github.com/tensorflow/datasets/blob/master/tensorflow_datasets/structured/movielens.py\n",
    "https://github.com/tensorflow/datasets\n",
    "https://www.tensorflow.org/datasets/catalog/overview\n",
    "\n",
    "https://www.tensorflow.org/datasets/splits\n",
    "\n",
    "\n",
    "https://www.tensorflow.org/datasets/performances#auto-caching\n",
    "https://www.tensorflow.org/datasets/decode#only_decode_a_sub-set_of_the_features\n",
    "\n",
    "\n",
    "some scientific papers on the dataset\n",
    "\n",
    "https://paperswithcode.com/sota/collaborative-filtering-on-movielens-1m\n",
    "https://paperswithcode.com/paper/neural-collaborative-filtering-vs-matrix\n",
    "\n",
    "https://paperswithcode.com/paper/neural-collaborative-filtering\n",
    "\n",
    "https://paperswithcode.com/paper/neural-network-matrix-factorization"
   ]
  }
 ],
 "metadata": {
  "kernelspec": {
   "display_name": "Python 3.10.6 ('venv': venv)",
   "language": "python",
   "name": "python3"
  },
  "language_info": {
   "codemirror_mode": {
    "name": "ipython",
    "version": 3
   },
   "file_extension": ".py",
   "mimetype": "text/x-python",
   "name": "python",
   "nbconvert_exporter": "python",
   "pygments_lexer": "ipython3",
   "version": "3.10.6"
  },
  "orig_nbformat": 4,
  "vscode": {
   "interpreter": {
    "hash": "ef5669a102b52ac791429178b2b505b3d73d9aa6f086c61ea0a18a35b7dcb068"
   }
  }
 },
 "nbformat": 4,
 "nbformat_minor": 2
}
