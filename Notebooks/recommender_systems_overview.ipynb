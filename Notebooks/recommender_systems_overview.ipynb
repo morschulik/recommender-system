{
 "cells": [
  {
   "cell_type": "markdown",
   "metadata": {},
   "source": [
    "includes the phases of building a recommendation system and  a basic overview of the filtering systems (with pictures from the google cloud course)"
   ]
  },
  {
   "cell_type": "markdown",
   "metadata": {},
   "source": [
    "# Todo \n",
    "##### draft structure taken from [here](https://www.sciencedirect.com/science/article/pii/S1110866515000341)\n",
    "\n",
    "3.1. Information collection phase\n",
    "\n",
    "    1. .1.1. Explicit feedback\n",
    "    2. 3.1.2. Implicit feedback\n",
    "    3. 3.1.3. Hybrid feedback\n",
    "\n",
    "\n",
    "3.2. Learning phase\n",
    "3.3. Prediction/recommendation phase\n",
    "Recommendation filtering techniques\n",
    "picture from marie on whats app was in the above articles\n",
    "https://ars.els-cdn.com/content/image/1-s2.0-S1110866515000341-gr2.jpg\n",
    "\n",
    "4.1. Content-based filtering\n",
    "\n",
    "\tSimilarity measures\n",
    "\n",
    "\t4.1.1. Pros and Cons of content-based filtering techniques\n",
    "\n",
    "\t4.1.2. Examples of content-based filtering systems\n",
    "\n",
    "\n",
    "4.2. Collaborative filtering\n",
    "\t4.2.1. Memory based techniques\n",
    "\t4.2.2. Model-based techniques see the link to correct and summarize the following sub \tpoints\n",
    "\t- clustering\n",
    "\t- decision tree\n",
    "- association rule , etc...etc"
   ]
  },
  {
   "cell_type": "markdown",
   "metadata": {},
   "source": [
    "# to do upload the pictures from your screenshot pictures\n",
    "(collected in the recommenders.odt file)\n"
   ]
  }
 ],
 "metadata": {
  "kernelspec": {
   "display_name": "Python 3.10.6 ('venv': venv)",
   "language": "python",
   "name": "python3"
  },
  "language_info": {
   "name": "python",
   "version": "3.10.6"
  },
  "orig_nbformat": 4,
  "vscode": {
   "interpreter": {
    "hash": "ef5669a102b52ac791429178b2b505b3d73d9aa6f086c61ea0a18a35b7dcb068"
   }
  }
 },
 "nbformat": 4,
 "nbformat_minor": 2
}
