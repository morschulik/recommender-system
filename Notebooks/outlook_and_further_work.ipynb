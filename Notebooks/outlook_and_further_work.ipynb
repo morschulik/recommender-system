{
 "cells": [
  {
   "cell_type": "markdown",
   "metadata": {},
   "source": [
    "(includes building end to end recommendation system)"
   ]
  }
 ],
 "metadata": {
  "kernelspec": {
   "display_name": "Python 3.10.6 ('venv': venv)",
   "language": "python",
   "name": "python3"
  },
  "language_info": {
   "name": "python",
   "version": "3.10.6"
  },
  "orig_nbformat": 4,
  "vscode": {
   "interpreter": {
    "hash": "ef5669a102b52ac791429178b2b505b3d73d9aa6f086c61ea0a18a35b7dcb068"
   }
  }
 },
 "nbformat": 4,
 "nbformat_minor": 2
}
