{
 "cells": [
  {
   "cell_type": "markdown",
   "metadata": {},
   "source": [
    "#### Dataset description\n",
    "\n",
    "# todo write the features from here or from the screenshots https://www.tensorflow.org/datasets/catalog/movielens\n",
    "\n",
    "# ToDo :edit the acknowledgment of the dataset\n",
    "\n",
    "@article{10.1145/2827872,\n",
    "author = {Harper, F. Maxwell and Konstan, Joseph A.},\n",
    "title = {The MovieLens Datasets: History and Context},\n",
    "year = {2015},\n",
    "issue_date = {January 2016},\n",
    "publisher = {Association for Computing Machinery},\n",
    "address = {New York, NY, USA},\n",
    "volume = {5},\n",
    "number = {4},\n",
    "issn = {2160-6455},\n",
    "url = {https://doi.org/10.1145/2827872},\n",
    "doi = {10.1145/2827872},\n",
    "journal = {ACM Trans. Interact. Intell. Syst.},\n",
    "month = dec,\n",
    "articleno = {19},\n",
    "numpages = {19},\n",
    "keywords = {Datasets, recommendations, ratings, MovieLens}\n",
    "}\n",
    "\n",
    "\n",
    "# todo Data can be downloaded from https://grouplens.org/datasets/movielens/20m/\n",
    "\n",
    "#todo similar to [here](https://github.com/GoogleCloudPlatform/tensorflow-recommendation-wals/blob/master/notebooks/Part1.ipynb) \n",
    "\n",
    "# to do The MovieLens data set\n",
    "edit the following to replace the 100k by the 20 m dataset\n",
    "\n",
    "Execute the following cell to download the MovieLens 100k data set:\n",
    "\n",
    "```\n",
    "!curl -O 'http://files.grouplens.org/datasets/movielens/ml-100k.zip'\n",
    "!unzip ml-100k.zip\n",
    "!mkdir -p ../data\n",
    "!cp ml-100k/u.data ../data/\n",
    "```"
   ]
  },
  {
   "cell_type": "markdown",
   "metadata": {},
   "source": [
    "Add the things from the tensorflow file"
   ]
  }
 ],
 "metadata": {
  "kernelspec": {
   "display_name": "Python 3.10.6 ('venv': venv)",
   "language": "python",
   "name": "python3"
  },
  "language_info": {
   "name": "python",
   "version": "3.10.6"
  },
  "orig_nbformat": 4,
  "vscode": {
   "interpreter": {
    "hash": "ef5669a102b52ac791429178b2b505b3d73d9aa6f086c61ea0a18a35b7dcb068"
   }
  }
 },
 "nbformat": 4,
 "nbformat_minor": 2
}
