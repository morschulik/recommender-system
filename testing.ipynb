{
 "cells": [
  {
   "cell_type": "code",
   "execution_count": 1,
   "metadata": {},
   "outputs": [],
   "source": [
    "import pandas as pd\n",
    "import numpy as np\n",
    "from sklearn.feature_extraction.text import CountVectorizer\n",
    "from sklearn.metrics.pairwise import cosine_similarity\n",
    "df = pd.read_csv(r\"movie_dataset.csv\")"
   ]
  },
  {
   "cell_type": "code",
   "execution_count": 2,
   "metadata": {},
   "outputs": [],
   "source": [
    "features = ['keywords', 'cast', 'genres', 'director']\n",
    "for feature in features:\n",
    "    df[feature] = df[feature].fillna('')"
   ]
  },
  {
   "cell_type": "code",
   "execution_count": 3,
   "metadata": {},
   "outputs": [],
   "source": [
    "def combined_features(row):\n",
    "    return row['keywords']+\" \"+row['cast']+\" \"+row['genres']+\" \"+row['director']\n",
    "df[\"combined_features\"] = df.apply(combined_features, axis =1)"
   ]
  },
  {
   "cell_type": "code",
   "execution_count": 4,
   "metadata": {},
   "outputs": [
    {
     "name": "stdout",
     "output_type": "stream",
     "text": [
      "Count Matrix: [[0 0 0 ... 0 0 0]\n",
      " [0 0 0 ... 0 0 0]\n",
      " [0 0 0 ... 0 0 0]\n",
      " ...\n",
      " [0 0 0 ... 0 0 0]\n",
      " [0 0 0 ... 0 0 0]\n",
      " [0 0 0 ... 0 0 0]]\n"
     ]
    }
   ],
   "source": [
    "cv = CountVectorizer()\n",
    "count_matrix = cv.fit_transform(df[\"combined_features\"])\n",
    "print(\"Count Matrix:\", count_matrix.toarray())"
   ]
  },
  {
   "cell_type": "code",
   "execution_count": 5,
   "metadata": {},
   "outputs": [],
   "source": [
    "cosine_sim = cosine_similarity(count_matrix)\n"
   ]
  },
  {
   "cell_type": "code",
   "execution_count": 6,
   "metadata": {},
   "outputs": [],
   "source": [
    "movie_user_likes = \"Dead Poets Society\"\n",
    "def get_index_from_title(title):\n",
    "    return df[df.title == title][\"index\"].values[0]\n",
    "movie_index = get_index_from_title(movie_user_likes)"
   ]
  },
  {
   "cell_type": "code",
   "execution_count": 7,
   "metadata": {},
   "outputs": [],
   "source": [
    "similar_movies = list(enumerate(cosine_sim[movie_index]))\n"
   ]
  },
  {
   "cell_type": "code",
   "execution_count": 8,
   "metadata": {},
   "outputs": [],
   "source": [
    "sorted_similar_movies = sorted(similar_movies, key=lambda x:x[1], reverse=True)"
   ]
  },
  {
   "cell_type": "code",
   "execution_count": 9,
   "metadata": {},
   "outputs": [
    {
     "name": "stdout",
     "output_type": "stream",
     "text": [
      "Dead Poets Society\n",
      "Much Ado About Nothing\n",
      "Patch Adams\n",
      "Good Will Hunting\n",
      "Flightplan\n",
      "Alive\n",
      "The Basket\n",
      "What Just Happened\n",
      "Adulterers\n",
      "The Sting\n",
      "The Tree of Life\n",
      "The Greatest Game Ever Played\n",
      "Light It Up\n",
      "The Wood\n",
      "The Naked Ape\n",
      "Jakob the Liar\n"
     ]
    }
   ],
   "source": [
    "def get_title_from_index(index):\n",
    "    return df[df.index == index][\"title\"].values[0]\n",
    "i=0\n",
    "for movie in sorted_similar_movies:\n",
    "    print(get_title_from_index(movie[0]))\n",
    "    i=i+1\n",
    "    if i>15:\n",
    "        break"
   ]
  }
 ],
 "metadata": {
  "kernelspec": {
   "display_name": "Python 3.8.2 ('venv': venv)",
   "language": "python",
   "name": "python3"
  },
  "language_info": {
   "codemirror_mode": {
    "name": "ipython",
    "version": 3
   },
   "file_extension": ".py",
   "mimetype": "text/x-python",
   "name": "python",
   "nbconvert_exporter": "python",
   "pygments_lexer": "ipython3",
   "version": "3.8.2"
  },
  "orig_nbformat": 4,
  "vscode": {
   "interpreter": {
    "hash": "3fcc7bec44e7c7ec103952f31bafdedd1644dd42c791e3e741c29c8506769510"
   }
  }
 },
 "nbformat": 4,
 "nbformat_minor": 2
}
